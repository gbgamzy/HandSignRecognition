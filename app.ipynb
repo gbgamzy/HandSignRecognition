{
 "cells": [
  {
   "cell_type": "code",
   "execution_count": 1,
   "metadata": {},
   "outputs": [],
   "source": [
    "import numpy as np\n",
    "import pandas as pd\n",
    "import matplotlib.pyplot as plt\n",
    "\n",
    "\n",
    "\n",
    "\n",
    "import os"
   ]
  },
  {
   "cell_type": "code",
   "execution_count": 2,
   "metadata": {},
   "outputs": [
    {
     "data": {
      "text/html": [
       "<div>\n",
       "<style scoped>\n",
       "    .dataframe tbody tr th:only-of-type {\n",
       "        vertical-align: middle;\n",
       "    }\n",
       "\n",
       "    .dataframe tbody tr th {\n",
       "        vertical-align: top;\n",
       "    }\n",
       "\n",
       "    .dataframe thead th {\n",
       "        text-align: right;\n",
       "    }\n",
       "</style>\n",
       "<table border=\"1\" class=\"dataframe\">\n",
       "  <thead>\n",
       "    <tr style=\"text-align: right;\">\n",
       "      <th></th>\n",
       "      <th>label</th>\n",
       "      <th>x1</th>\n",
       "      <th>y1</th>\n",
       "      <th>z1</th>\n",
       "      <th>x2</th>\n",
       "      <th>y2</th>\n",
       "      <th>z2</th>\n",
       "      <th>x3</th>\n",
       "      <th>y3</th>\n",
       "      <th>z3</th>\n",
       "      <th>...</th>\n",
       "      <th>z18</th>\n",
       "      <th>x19</th>\n",
       "      <th>y19</th>\n",
       "      <th>z19</th>\n",
       "      <th>x20</th>\n",
       "      <th>y20</th>\n",
       "      <th>z20</th>\n",
       "      <th>x21</th>\n",
       "      <th>y21</th>\n",
       "      <th>z21</th>\n",
       "    </tr>\n",
       "  </thead>\n",
       "  <tbody>\n",
       "    <tr>\n",
       "      <th>0</th>\n",
       "      <td>A</td>\n",
       "      <td>0.413032</td>\n",
       "      <td>0.922601</td>\n",
       "      <td>-8.876323e-07</td>\n",
       "      <td>0.539955</td>\n",
       "      <td>0.827524</td>\n",
       "      <td>-0.081006</td>\n",
       "      <td>0.652623</td>\n",
       "      <td>0.640106</td>\n",
       "      <td>-0.115715</td>\n",
       "      <td>...</td>\n",
       "      <td>-0.041621</td>\n",
       "      <td>0.238462</td>\n",
       "      <td>0.371768</td>\n",
       "      <td>-0.093708</td>\n",
       "      <td>0.279577</td>\n",
       "      <td>0.495599</td>\n",
       "      <td>-0.067726</td>\n",
       "      <td>0.308212</td>\n",
       "      <td>0.542916</td>\n",
       "      <td>-0.032943</td>\n",
       "    </tr>\n",
       "    <tr>\n",
       "      <th>19</th>\n",
       "      <td>A</td>\n",
       "      <td>0.425965</td>\n",
       "      <td>0.884045</td>\n",
       "      <td>-1.035879e-06</td>\n",
       "      <td>0.557272</td>\n",
       "      <td>0.788401</td>\n",
       "      <td>-0.077935</td>\n",
       "      <td>0.678750</td>\n",
       "      <td>0.615317</td>\n",
       "      <td>-0.116312</td>\n",
       "      <td>...</td>\n",
       "      <td>-0.052374</td>\n",
       "      <td>0.275770</td>\n",
       "      <td>0.311781</td>\n",
       "      <td>-0.106419</td>\n",
       "      <td>0.310240</td>\n",
       "      <td>0.452464</td>\n",
       "      <td>-0.071796</td>\n",
       "      <td>0.328937</td>\n",
       "      <td>0.506869</td>\n",
       "      <td>-0.029674</td>\n",
       "    </tr>\n",
       "    <tr>\n",
       "      <th>18</th>\n",
       "      <td>A</td>\n",
       "      <td>0.428073</td>\n",
       "      <td>0.879679</td>\n",
       "      <td>-1.008048e-06</td>\n",
       "      <td>0.559191</td>\n",
       "      <td>0.783949</td>\n",
       "      <td>-0.076075</td>\n",
       "      <td>0.680214</td>\n",
       "      <td>0.609983</td>\n",
       "      <td>-0.112803</td>\n",
       "      <td>...</td>\n",
       "      <td>-0.051451</td>\n",
       "      <td>0.275908</td>\n",
       "      <td>0.308935</td>\n",
       "      <td>-0.112038</td>\n",
       "      <td>0.311736</td>\n",
       "      <td>0.452690</td>\n",
       "      <td>-0.082032</td>\n",
       "      <td>0.334614</td>\n",
       "      <td>0.514508</td>\n",
       "      <td>-0.041732</td>\n",
       "    </tr>\n",
       "    <tr>\n",
       "      <th>17</th>\n",
       "      <td>A</td>\n",
       "      <td>0.422336</td>\n",
       "      <td>0.882382</td>\n",
       "      <td>-9.948675e-07</td>\n",
       "      <td>0.551011</td>\n",
       "      <td>0.786695</td>\n",
       "      <td>-0.075771</td>\n",
       "      <td>0.667690</td>\n",
       "      <td>0.612336</td>\n",
       "      <td>-0.111683</td>\n",
       "      <td>...</td>\n",
       "      <td>-0.050138</td>\n",
       "      <td>0.271349</td>\n",
       "      <td>0.320383</td>\n",
       "      <td>-0.103441</td>\n",
       "      <td>0.306063</td>\n",
       "      <td>0.457641</td>\n",
       "      <td>-0.071088</td>\n",
       "      <td>0.325626</td>\n",
       "      <td>0.513916</td>\n",
       "      <td>-0.030990</td>\n",
       "    </tr>\n",
       "    <tr>\n",
       "      <th>16</th>\n",
       "      <td>A</td>\n",
       "      <td>0.412571</td>\n",
       "      <td>0.895976</td>\n",
       "      <td>-9.307126e-07</td>\n",
       "      <td>0.534254</td>\n",
       "      <td>0.802050</td>\n",
       "      <td>-0.074548</td>\n",
       "      <td>0.646986</td>\n",
       "      <td>0.623550</td>\n",
       "      <td>-0.106491</td>\n",
       "      <td>...</td>\n",
       "      <td>-0.045460</td>\n",
       "      <td>0.257467</td>\n",
       "      <td>0.348241</td>\n",
       "      <td>-0.092668</td>\n",
       "      <td>0.292239</td>\n",
       "      <td>0.474418</td>\n",
       "      <td>-0.062387</td>\n",
       "      <td>0.313780</td>\n",
       "      <td>0.523663</td>\n",
       "      <td>-0.025849</td>\n",
       "    </tr>\n",
       "  </tbody>\n",
       "</table>\n",
       "<p>5 rows × 64 columns</p>\n",
       "</div>"
      ],
      "text/plain": [
       "   label        x1        y1            z1        x2        y2        z2  \\\n",
       "0      A  0.413032  0.922601 -8.876323e-07  0.539955  0.827524 -0.081006   \n",
       "19     A  0.425965  0.884045 -1.035879e-06  0.557272  0.788401 -0.077935   \n",
       "18     A  0.428073  0.879679 -1.008048e-06  0.559191  0.783949 -0.076075   \n",
       "17     A  0.422336  0.882382 -9.948675e-07  0.551011  0.786695 -0.075771   \n",
       "16     A  0.412571  0.895976 -9.307126e-07  0.534254  0.802050 -0.074548   \n",
       "\n",
       "          x3        y3        z3  ...       z18       x19       y19       z19  \\\n",
       "0   0.652623  0.640106 -0.115715  ... -0.041621  0.238462  0.371768 -0.093708   \n",
       "19  0.678750  0.615317 -0.116312  ... -0.052374  0.275770  0.311781 -0.106419   \n",
       "18  0.680214  0.609983 -0.112803  ... -0.051451  0.275908  0.308935 -0.112038   \n",
       "17  0.667690  0.612336 -0.111683  ... -0.050138  0.271349  0.320383 -0.103441   \n",
       "16  0.646986  0.623550 -0.106491  ... -0.045460  0.257467  0.348241 -0.092668   \n",
       "\n",
       "         x20       y20       z20       x21       y21       z21  \n",
       "0   0.279577  0.495599 -0.067726  0.308212  0.542916 -0.032943  \n",
       "19  0.310240  0.452464 -0.071796  0.328937  0.506869 -0.029674  \n",
       "18  0.311736  0.452690 -0.082032  0.334614  0.514508 -0.041732  \n",
       "17  0.306063  0.457641 -0.071088  0.325626  0.513916 -0.030990  \n",
       "16  0.292239  0.474418 -0.062387  0.313780  0.523663 -0.025849  \n",
       "\n",
       "[5 rows x 64 columns]"
      ]
     },
     "execution_count": 2,
     "metadata": {},
     "output_type": "execute_result"
    }
   ],
   "source": [
    "ds = pd.read_csv('database.csv')\n",
    "ds = ds.sort_values('label')\n",
    "ds.head()"
   ]
  },
  {
   "cell_type": "code",
   "execution_count": 3,
   "metadata": {},
   "outputs": [
    {
     "name": "stdout",
     "output_type": "stream",
     "text": [
      "Samples: 66\n",
      "Classes: ['A' 'B' 'C' 'D']\n"
     ]
    }
   ],
   "source": [
    "num_samples = len(ds)\n",
    "classes = pd.unique(ds.label)\n",
    "print(f'Samples: {num_samples}')\n",
    "print(f'Classes: {classes}')"
   ]
  },
  {
   "cell_type": "code",
   "execution_count": 4,
   "metadata": {},
   "outputs": [],
   "source": [
    "# Shuffle and split\n",
    "ds_y = ds.label.array\n",
    "ds_y = pd.factorize(ds_y)[0]\n",
    "ds_y = np.array(ds_y)\n",
    "\n",
    "ds_x = ds.drop(['label'], axis=1)\n",
    "ds_x = ds_x.to_numpy()"
   ]
  },
  {
   "cell_type": "code",
   "execution_count": 5,
   "metadata": {},
   "outputs": [
    {
     "name": "stdout",
     "output_type": "stream",
     "text": [
      "(66,)\n",
      "(66, 63)\n"
     ]
    }
   ],
   "source": [
    "print(ds_y.shape)\n",
    "print(ds_x.shape)"
   ]
  },
  {
   "cell_type": "code",
   "execution_count": 6,
   "metadata": {},
   "outputs": [
    {
     "name": "stdout",
     "output_type": "stream",
     "text": [
      "(66, 21, 3)\n"
     ]
    }
   ],
   "source": [
    "num_samples = ds_x.shape[0]\n",
    "dim = 3\n",
    "landmarks = 21\n",
    "ds_x = ds_x.reshape((num_samples, landmarks, dim))\n",
    "print(ds_x.shape)"
   ]
  },
  {
   "cell_type": "code",
   "execution_count": 7,
   "metadata": {},
   "outputs": [
    {
     "name": "stdout",
     "output_type": "stream",
     "text": [
      "(52, 21, 3)\n",
      "(52,)\n",
      "(14, 21, 3)\n",
      "(14,)\n"
     ]
    }
   ],
   "source": [
    "from sklearn.model_selection import train_test_split\n",
    "x_train, x_test, y_train, y_test = train_test_split(ds_x, ds_y, test_size=0.2, random_state=42)\n",
    "print(x_train.shape)\n",
    "print(y_train.shape)\n",
    "print(x_test.shape)\n",
    "print(y_test.shape)"
   ]
  },
  {
   "cell_type": "code",
   "execution_count": 8,
   "metadata": {},
   "outputs": [
    {
     "data": {
      "image/png": "[encoded data removed]",
      "text/plain": [
       "<Figure size 432x288 with 1 Axes>"
      ]
     },
     "metadata": {
      "needs_background": "light"
     },
     "output_type": "display_data"
    }
   ],
   "source": [
    "# plot coordinates\n",
    "num = 10\n",
    "example = ds_x[num]\n",
    "label = ds_y[num]\n",
    "\n",
    "fig = plt.figure()\n",
    "ax = fig.add_subplot(projection='3d')\n",
    "\n",
    "for vec in example:\n",
    "    ax.scatter(vec[0], vec[2], vec[1], color='b')\n",
    "\n",
    "plt.title(f'Label: {classes[label]}')\n",
    "ax.set_xlabel('X')\n",
    "ax.set_ylabel('Z')\n",
    "ax.set_zlabel('Y')\n",
    "\n",
    "plt.show()"
   ]
  },
  {
   "cell_type": "code",
   "execution_count": 9,
   "metadata": {},
   "outputs": [],
   "source": [
    "# Neural Network"
   ]
  },
  {
   "cell_type": "code",
   "execution_count": 10,
   "metadata": {},
   "outputs": [
    {
     "name": "stdout",
     "output_type": "stream",
     "text": [
      "(52, 4)\n",
      "(14, 4)\n"
     ]
    }
   ],
   "source": [
    "# hyperparameters\n",
    "epochs = 10\n",
    "val_split = .2\n",
    "\n",
    "# labels to one hot\n",
    "from tensorflow.keras.utils import to_categorical\n",
    "\n",
    "y_train = to_categorical(y_train.astype(int))\n",
    "y_test = to_categorical(y_test.astype(int))\n",
    "\n",
    "print(y_train.shape)\n",
    "print(y_test.shape)\n",
    "\n",
    "# create callbacks\n",
    "from tensorflow.keras.callbacks import EarlyStopping, ReduceLROnPlateau\n",
    "\n",
    "early_stop = EarlyStopping(monitor='val_acc',\n",
    "                           restore_best_weights=True,\n",
    "                           patience=10,\n",
    "                           verbose=0)\n",
    "\n",
    "reduce_lr = ReduceLROnPlateau(monitor='val_acc',\n",
    "                              factor=0.2,\n",
    "                              min_lr=0.00001,\n",
    "                              patience=5,\n",
    "                              verbose=0)\n"
   ]
  },
  {
   "cell_type": "code",
   "execution_count": 11,
   "metadata": {},
   "outputs": [
    {
     "name": "stdout",
     "output_type": "stream",
     "text": [
      "Model: \"SNN_6\"\n",
      "_________________________________________________________________\n",
      "Layer (type)                 Output Shape              Param #   \n",
      "=================================================================\n",
      "Landmark_Vectors (InputLayer [(None, 21, 3)]           0         \n",
      "_________________________________________________________________\n",
      "LayerNorm (LayerNormalizatio (None, 21, 3)             6         \n",
      "_________________________________________________________________\n",
      "Flatten_Vectors (Flatten)    (None, 63)                0         \n",
      "_________________________________________________________________\n",
      "Dense_1 (Dense)              (None, 1728)              110592    \n",
      "_________________________________________________________________\n",
      "Dropout_1 (AlphaDropout)     (None, 1728)              0         \n",
      "_________________________________________________________________\n",
      "Dense_2 (Dense)              (None, 1200)              2074800   \n",
      "_________________________________________________________________\n",
      "Dropout_2 (AlphaDropout)     (None, 1200)              0         \n",
      "_________________________________________________________________\n",
      "Dense_3 (Dense)              (None, 768)               922368    \n",
      "_________________________________________________________________\n",
      "Dropout_3 (AlphaDropout)     (None, 768)               0         \n",
      "_________________________________________________________________\n",
      "Dense_4 (Dense)              (None, 432)               332208    \n",
      "_________________________________________________________________\n",
      "Dropout_4 (AlphaDropout)     (None, 432)               0         \n",
      "_________________________________________________________________\n",
      "Dense_5 (Dense)              (None, 192)               83136     \n",
      "_________________________________________________________________\n",
      "Dropout_5 (AlphaDropout)     (None, 192)               0         \n",
      "_________________________________________________________________\n",
      "Dense_6 (Dense)              (None, 48)                9264      \n",
      "_________________________________________________________________\n",
      "Dropout_6 (AlphaDropout)     (None, 48)                0         \n",
      "_________________________________________________________________\n",
      "Output_Vector (Dense)        (None, 4)                 196       \n",
      "=================================================================\n",
      "Total params: 3,532,570\n",
      "Trainable params: 3,532,570\n",
      "Non-trainable params: 0\n",
      "_________________________________________________________________\n"
     ]
    }
   ],
   "source": [
    "# Model\n",
    "\n",
    "from tensorflow.keras import Input, Model\n",
    "from tensorflow.keras.layers import Dense, Flatten, AlphaDropout, LayerNormalization\n",
    "\n",
    "inputs = Input(shape=x_train[0].shape, name='Landmark_Vectors')\n",
    "\n",
    "layerNorm = LayerNormalization(name='LayerNorm')(inputs)\n",
    "\n",
    "flatten = Flatten(name='Flatten_Vectors')(layerNorm)\n",
    "\n",
    "dense_count = 6\n",
    "dense_base = 48\n",
    "out = flatten\n",
    "\n",
    "for i in range(dense_count):\n",
    "    units = (dense_count-i) * (dense_count-i) * dense_base\n",
    "    dense = Dense(units, \n",
    "                kernel_initializer=\"lecun_normal\", \n",
    "                bias_initializer=\"zeros\", \n",
    "                activation='selu',\n",
    "                name=f'Dense_{i+1}')\n",
    "    a_dropout = AlphaDropout(0.05, name=f'Dropout_{i+1}')\n",
    "    out = dense(out)\n",
    "    out = a_dropout(out)\n",
    "\n",
    "outputs = Dense(y_train[0].shape[0], activation='softmax', name='Output_Vector')(out)\n",
    "model = Model(inputs=inputs, outputs=outputs, name=\"NeuralNetwork\")\n",
    "model.summary()"
   ]
  },
  {
   "cell_type": "code",
   "execution_count": 12,
   "metadata": {},
   "outputs": [],
   "source": [
    "# from tensorflow.keras.optimizers import Adam\n",
    "\n",
    "# adam = Adam(learning_rate=0.001, beta_2=0.99, epsilon=0.01)\n",
    "\n",
    "# model.compile(loss='categorical_crossentropy',\n",
    "#               optimizer=adam,\n",
    "#               metrics=['acc'])\n",
    "\n",
    "# history = model.fit(x_train, y_train,\n",
    "#                       epochs=100,\n",
    "#                       batch_size=32,\n",
    "#                       validation_split=val_split,\n",
    "#                       callbacks=[early_stop, reduce_lr],\n",
    "#                       verbose=0)"
   ]
  },
  {
   "cell_type": "code",
   "execution_count": 13,
   "metadata": {},
   "outputs": [
    {
     "name": "stdout",
     "output_type": "stream",
     "text": [
      "adam compiled\n",
      "model complete\n"
     ]
    }
   ],
   "source": [
    "from tensorflow.keras.optimizers import Adam\n",
    "\n",
    "adam = Adam(learning_rate=0.001, beta_2=0.99, epsilon=0.01)\n",
    "print(\"adam compiled\")\n",
    "model.compile(loss='categorical_crossentropy',\n",
    "            optimizer=adam,\n",
    "            metrics=['acc'])\n",
    "print(\"model compiled\")\n",
    "print(\"model fitting\")\n",
    "# history = \n",
    "model.fit(x_train, y_train,\n",
    "                    epochs=10,\n",
    "                    batch_size=32,\n",
    "                    validation_split=val_split,\n",
    "                    callbacks=[early_stop, reduce_lr],\n",
    "                    verbose=0)"
   ]
  },
  {
   "cell_type": "markdown",
   "metadata": {},
   "source": []
  },
  {
   "cell_type": "code",
   "execution_count": null,
   "metadata": {},
   "outputs": [
    {
     "ename": "NameError",
     "evalue": "name 'history' is not defined",
     "output_type": "error",
     "traceback": [
      "\u001b[0;31m---------------------------------------------------------------------------\u001b[0m",
      "\u001b[0;31mNameError\u001b[0m                                 Traceback (most recent call last)",
      "\u001b[0;32m<ipython-input-11-6f7eda343ce0>\u001b[0m in \u001b[0;36m<module>\u001b[0;34m\u001b[0m\n\u001b[1;32m      2\u001b[0m \u001b[0;34m\u001b[0m\u001b[0m\n\u001b[1;32m      3\u001b[0m \u001b[0mplt\u001b[0m\u001b[0;34m.\u001b[0m\u001b[0msubplot\u001b[0m\u001b[0;34m(\u001b[0m\u001b[0;36m2\u001b[0m\u001b[0;34m,\u001b[0m \u001b[0;36m2\u001b[0m\u001b[0;34m,\u001b[0m \u001b[0;36m1\u001b[0m\u001b[0;34m)\u001b[0m\u001b[0;34m\u001b[0m\u001b[0;34m\u001b[0m\u001b[0m\n\u001b[0;32m----> 4\u001b[0;31m \u001b[0mplt\u001b[0m\u001b[0;34m.\u001b[0m\u001b[0mplot\u001b[0m\u001b[0;34m(\u001b[0m\u001b[0mhistory\u001b[0m\u001b[0;34m.\u001b[0m\u001b[0mhistory\u001b[0m\u001b[0;34m[\u001b[0m\u001b[0;34m'loss'\u001b[0m\u001b[0;34m]\u001b[0m\u001b[0;34m,\u001b[0m \u001b[0mlabel\u001b[0m\u001b[0;34m=\u001b[0m\u001b[0;34m'train loss'\u001b[0m\u001b[0;34m)\u001b[0m\u001b[0;34m\u001b[0m\u001b[0;34m\u001b[0m\u001b[0m\n\u001b[0m\u001b[1;32m      5\u001b[0m \u001b[0mplt\u001b[0m\u001b[0;34m.\u001b[0m\u001b[0mplot\u001b[0m\u001b[0;34m(\u001b[0m\u001b[0mhistory\u001b[0m\u001b[0;34m.\u001b[0m\u001b[0mhistory\u001b[0m\u001b[0;34m[\u001b[0m\u001b[0;34m'val_loss'\u001b[0m\u001b[0;34m]\u001b[0m\u001b[0;34m,\u001b[0m \u001b[0mlabel\u001b[0m\u001b[0;34m=\u001b[0m\u001b[0;34m'val loss'\u001b[0m\u001b[0;34m)\u001b[0m\u001b[0;34m\u001b[0m\u001b[0;34m\u001b[0m\u001b[0m\n\u001b[1;32m      6\u001b[0m \u001b[0mplt\u001b[0m\u001b[0;34m.\u001b[0m\u001b[0mlegend\u001b[0m\u001b[0;34m(\u001b[0m\u001b[0;34m)\u001b[0m\u001b[0;34m\u001b[0m\u001b[0;34m\u001b[0m\u001b[0m\n",
      "\u001b[0;31mNameError\u001b[0m: name 'history' is not defined"
     ]
    },
    {
     "data": {
      "image/png": "[encoded data removed]",
      "text/plain": [
       "<Figure size 864x576 with 1 Axes>"
      ]
     },
     "metadata": {
      "needs_background": "light"
     },
     "output_type": "display_data"
    }
   ],
   "source": [
    "plt.figure(figsize=(12, 8))\n",
    "\n",
    "plt.subplot(2, 2, 1)\n",
    "plt.plot(history.history['loss'], label='train loss')\n",
    "plt.plot(history.history['val_loss'], label='val loss')\n",
    "plt.legend()\n",
    "\n",
    "plt.subplot(2, 2, 2)\n",
    "plt.plot(history.history['acc'], label='train acc')\n",
    "plt.plot(history.history['val_acc'], label='val acc')\n",
    "plt.legend()"
   ]
  },
  {
   "cell_type": "code",
   "execution_count": null,
   "metadata": {},
   "outputs": [
    {
     "ename": "NameError",
     "evalue": "name 'model' is not defined",
     "output_type": "error",
     "traceback": [
      "\u001b[0;31m---------------------------------------------------------------------------\u001b[0m",
      "\u001b[0;31mNameError\u001b[0m                                 Traceback (most recent call last)",
      "\u001b[0;32m<ipython-input-12-193835a87a6c>\u001b[0m in \u001b[0;36m<module>\u001b[0;34m\u001b[0m\n\u001b[0;32m----> 1\u001b[0;31m \u001b[0mloss\u001b[0m\u001b[0;34m,\u001b[0m \u001b[0macc\u001b[0m \u001b[0;34m=\u001b[0m \u001b[0mmodel\u001b[0m\u001b[0;34m.\u001b[0m\u001b[0mevaluate\u001b[0m\u001b[0;34m(\u001b[0m\u001b[0mx_test\u001b[0m\u001b[0;34m,\u001b[0m \u001b[0my_test\u001b[0m\u001b[0;34m,\u001b[0m \u001b[0mverbose\u001b[0m\u001b[0;34m=\u001b[0m\u001b[0;36m0\u001b[0m\u001b[0;34m)\u001b[0m\u001b[0;34m\u001b[0m\u001b[0;34m\u001b[0m\u001b[0m\n\u001b[0m\u001b[1;32m      2\u001b[0m \u001b[0mprint\u001b[0m\u001b[0;34m(\u001b[0m\u001b[0;34mf'++++++++++++ Test data ++++++++++++\\nloss={loss:.4f} acc={acc:.4f}'\u001b[0m\u001b[0;34m)\u001b[0m\u001b[0;34m\u001b[0m\u001b[0;34m\u001b[0m\u001b[0m\n",
      "\u001b[0;31mNameError\u001b[0m: name 'model' is not defined"
     ]
    }
   ],
   "source": [
    "loss, acc = model.evaluate(x_test, y_test, verbose=0)\n",
    "print(f'++++++++++++ Test data ++++++++++++\\nloss={loss:.4f} acc={acc:.4f}')"
   ]
  },
  {
   "cell_type": "code",
   "execution_count": null,
   "metadata": {},
   "outputs": [
    {
     "ename": "NameError",
     "evalue": "name 'model' is not defined",
     "output_type": "error",
     "traceback": [
      "\u001b[0;31m---------------------------------------------------------------------------\u001b[0m",
      "\u001b[0;31mNameError\u001b[0m                                 Traceback (most recent call last)",
      "\u001b[0;32m<ipython-input-13-29a1a8462755>\u001b[0m in \u001b[0;36m<module>\u001b[0;34m\u001b[0m\n\u001b[1;32m      2\u001b[0m \u001b[0;32mimport\u001b[0m \u001b[0mseaborn\u001b[0m \u001b[0;32mas\u001b[0m \u001b[0msns\u001b[0m\u001b[0;34m\u001b[0m\u001b[0;34m\u001b[0m\u001b[0m\n\u001b[1;32m      3\u001b[0m \u001b[0;34m\u001b[0m\u001b[0m\n\u001b[0;32m----> 4\u001b[0;31m \u001b[0mpredictions\u001b[0m \u001b[0;34m=\u001b[0m \u001b[0mmodel\u001b[0m\u001b[0;34m.\u001b[0m\u001b[0mpredict\u001b[0m\u001b[0;34m(\u001b[0m\u001b[0mx_test\u001b[0m\u001b[0;34m)\u001b[0m\u001b[0;34m\u001b[0m\u001b[0;34m\u001b[0m\u001b[0m\n\u001b[0m\u001b[1;32m      5\u001b[0m \u001b[0mprediction_classes\u001b[0m \u001b[0;34m=\u001b[0m \u001b[0mnp\u001b[0m\u001b[0;34m.\u001b[0m\u001b[0margmax\u001b[0m\u001b[0;34m(\u001b[0m\u001b[0mpredictions\u001b[0m\u001b[0;34m,\u001b[0m \u001b[0maxis\u001b[0m\u001b[0;34m=\u001b[0m\u001b[0;34m-\u001b[0m\u001b[0;36m1\u001b[0m\u001b[0;34m)\u001b[0m\u001b[0;34m\u001b[0m\u001b[0;34m\u001b[0m\u001b[0m\n\u001b[1;32m      6\u001b[0m \u001b[0;34m\u001b[0m\u001b[0m\n",
      "\u001b[0;31mNameError\u001b[0m: name 'model' is not defined"
     ]
    }
   ],
   "source": [
    "from sklearn import metrics\n",
    "import seaborn as sns\n",
    "\n",
    "predictions = model.predict(x_test)\n",
    "prediction_classes = np.argmax(predictions, axis=-1)\n",
    "\n",
    "gt_classes = np.argmax(y_test, axis=-1)\n",
    "confusion_matrix = metrics.confusion_matrix(gt_classes, prediction_classes)\n",
    "\n",
    "sns.heatmap(pd.DataFrame(confusion_matrix, index=classes, columns=classes), annot=True, cmap=\"YlGnBu\", fmt='d')\n",
    "plt.tight_layout()\n",
    "plt.title('confusion matrix - ' + model.name, y=1.1)\n",
    "plt.ylabel('predicted')\n",
    "plt.xlabel('ground truth')\n",
    "plt.show()\n"
   ]
  },
  {
   "cell_type": "code",
   "execution_count": null,
   "metadata": {},
   "outputs": [],
   "source": []
  }
 ],
 "metadata": {
  "interpreter": {
   "hash": "8f9fe4956816b76661957f0dc9bb03401c6747c560c63c03578f7a38525c0c6d"
  },
  "kernelspec": {
   "display_name": "Python 3.9.5 64-bit ('base': conda)",
   "language": "python",
   "name": "python3"
  },
  "language_info": {
   "codemirror_mode": {
    "name": "ipython",
    "version": 3
   },
   "file_extension": ".py",
   "mimetype": "text/x-python",
   "name": "python",
   "nbconvert_exporter": "python",
   "pygments_lexer": "ipython3",
   "version": "3.9.5"
  },
  "orig_nbformat": 4
 },
 "nbformat": 4,
 "nbformat_minor": 2
}
